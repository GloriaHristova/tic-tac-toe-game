{
 "cells": [
  {
   "cell_type": "markdown",
   "metadata": {},
   "source": [
    "# Tic-Tac-Toe Game \n",
    "\n",
    "This is the first milestone project in the course \"Complete Python Bootcamp\" in Udemy.\n",
    "The script below can serve as detailed tutorial on how to create a simple Tic-Tac-Toe game executed in Jupyter Notebook.\n"
   ]
  },
  {
   "cell_type": "markdown",
   "metadata": {},
   "source": [
    "**Step 1: Write a function that can print out a board. Set up your board as a list, where each index 1-9 corresponds with a number on a number pad, so you get a 3 by 3 board representation.**"
   ]
  },
  {
   "cell_type": "code",
   "execution_count": null,
   "metadata": {},
   "outputs": [],
   "source": [
    "from IPython.display import clear_output\n",
    "\n",
    "def display_board(board):\n",
    "    print('---------------------')\n",
    "    print('|' + '        ' + '|'  + '        ' + '|' + '        '+ '|' )\n",
    "    print('|'+ '  ' + board[7]+ '    '  + '   ' + board[8]+ '    ' +    '    ' + board[9]+ '   ' )\n",
    "    print('|' + '        ' + '|'  + '        ' + '|' + '        '+ '|' )\n",
    "    print('---------------------')\n",
    "    print('|' + '        ' + '|'  + '        ' + '|' + '        '+ '|' )\n",
    "    print('|'+ '  ' + board[4]+ '    '  + '   ' + board[5]+ '    ' +    '    ' + board[6]+ '   ' )\n",
    "    print('|' + '        ' + '|'  + '        ' + '|' + '        '+ '|' )\n",
    "    print('---------------------')\n",
    "    print('|' + '        ' + '|'  + '        ' + '|' + '        '+ '|' )\n",
    "    print('|'+ '  ' + board[1]+ '    '  + '   ' + board[2]+ '    ' +    '    ' + board[3]+ '   ' )\n",
    "    print('|' + '        ' + '|'  + '        ' + '|' + '        '+ '|' )\n",
    "    print('---------------------')"
   ]
  },
  {
   "cell_type": "markdown",
   "metadata": {},
   "source": [
    "**Step 2: Write a function that can take in a player input and assign their marker as 'X' or 'O'. Think about using *while* loops to continually ask until you get a correct answer.**"
   ]
  },
  {
   "cell_type": "code",
   "execution_count": null,
   "metadata": {},
   "outputs": [],
   "source": [
    "def player_input():\n",
    "    answer1= input(\"Which player do you choose- X or O? \")\n",
    "    \n",
    "    while answer1.upper() not in [\"X\",\"O\"]:\n",
    "        answer1 = input(\"Hmm! It looks like there is a typo in your previous answer. Please, confirm which player do you choose- X or O? \")\n",
    "    else:\n",
    "        print (f\"You have chosen to be player: {answer1.upper()}\")\n",
    "    if answer1.upper() == \"X\":\n",
    "        answer2 = \"O\"\n",
    "    else:\n",
    "        answer2 = \"X\""
   ]
  },
  {
   "cell_type": "markdown",
   "metadata": {},
   "source": [
    "**Step 3: Write a function that takes in the board list object, a marker ('X' or 'O'), and a desired position (number 1-9) and assigns it to the board.**"
   ]
  },
  {
   "cell_type": "code",
   "execution_count": null,
   "metadata": {},
   "outputs": [],
   "source": [
    "test_board = ['#','X',' ',' ',' ',' ',' ',' ',' ',' '] # first, create an empty test board"
   ]
  },
  {
   "cell_type": "code",
   "execution_count": null,
   "metadata": {},
   "outputs": [],
   "source": [
    "def place_marker(board, marker, position):\n",
    "    if position in range(1,10):\n",
    "        board[position] = marker"
   ]
  },
  {
   "cell_type": "markdown",
   "metadata": {},
   "source": [
    "**Step 4: Write a function that takes in a board and a mark (X or O) and then checks to see if that mark has won. **"
   ]
  },
  {
   "cell_type": "code",
   "execution_count": null,
   "metadata": {},
   "outputs": [],
   "source": [
    "def win_check(board, mark):\n",
    "    combinationslist = [''.join(board[1:4]), ''.join(board[4:7]), ''.join(board[7:10]), ''.join(board[1:10:3]), \n",
    "                        ''.join(board[2:10:3]),  ''.join(board[3:10:3]), ''.join(board[1:10:4]), ''.join(board[3:8:2])]\n",
    "    check = []\n",
    "    for item in combinationslist:\n",
    "        check.append(mark*3 in item)\n",
    "\n",
    "    return sum(check) >0"
   ]
  },
  {
   "cell_type": "markdown",
   "metadata": {},
   "source": [
    "**Step 5: Write a function that uses the random module to randomly decide which player goes first. You may want to lookup random.randint() Return a string of which player went first.**"
   ]
  },
  {
   "cell_type": "code",
   "execution_count": null,
   "metadata": {},
   "outputs": [],
   "source": [
    "import random\n",
    "\n",
    "def choose_first():\n",
    "    first = random.randint(1,1000000)\n",
    "    if  first in range(1,500000):\n",
    "        print(\"Player X is first\")\n",
    "    else:\n",
    "        print(\"Player O is first\")\n",
    "    return first"
   ]
  },
  {
   "cell_type": "markdown",
   "metadata": {},
   "source": [
    "**Step 6: Write a function that returns a boolean indicating whether a space on the board is freely available.**"
   ]
  },
  {
   "cell_type": "code",
   "execution_count": null,
   "metadata": {},
   "outputs": [],
   "source": [
    "def space_check(board, position):\n",
    "    return board[position] == ' '"
   ]
  },
  {
   "cell_type": "markdown",
   "metadata": {},
   "source": [
    "**Step 7: Write a function that checks if the board is full and returns a boolean value. True if full, False otherwise.**"
   ]
  },
  {
   "cell_type": "code",
   "execution_count": null,
   "metadata": {},
   "outputs": [],
   "source": [
    "def full_board_check(board):\n",
    "    return ' ' not in board"
   ]
  },
  {
   "cell_type": "markdown",
   "metadata": {},
   "source": [
    "**Step 8: Write a function that asks for a player's next position (as a number 1-9) and then uses the function from step 6 to check if it's a free position. If it is, then return the position for later use. Handle potential error if a string is provided in this field.**"
   ]
  },
  {
   "cell_type": "code",
   "execution_count": null,
   "metadata": {},
   "outputs": [],
   "source": [
    "def player_choice(board):\n",
    "    chosenpos = 0\n",
    "    \n",
    "    while True:\n",
    "        try:\n",
    "            chosenpos = int(input(\"Please, choose a position (provide an integer value from 1 to 9): \"))\n",
    "        except:\n",
    "            print(\"Looks like you did not enter an integer!\")\n",
    "            continue\n",
    "        else:\n",
    "            break\n",
    "    \n",
    "    while chosenpos not in [1,2,3,4,5,6,7,8,9] or not space_check(board,chosenpos):\n",
    "        chosenpos = int(input(\"Oops, it looks like this position has already been taken! Please, choose another one (provide an integer value from 1 to 9): \"))\n",
    "    \n",
    "    return chosenpos"
   ]
  },
  {
   "cell_type": "markdown",
   "metadata": {},
   "source": [
    "**Step 9: Write a function that asks the player if they want to play  and returns a boolean True if they do want.**"
   ]
  },
  {
   "cell_type": "code",
   "execution_count": null,
   "metadata": {},
   "outputs": [],
   "source": [
    "def replay():\n",
    "    yesorno = input(\"Do you want to play  (Yes/No)?\")\n",
    "    while yesorno.lower() not in ['yes','no']:\n",
    "        yesorno = input(\"Hmm! It looks like there is a typo in your previous answer. Please, confirm if you want to play (Yes/No)?\")\n",
    "    else:\n",
    "        return yesorno.lower() == \"yes\" "
   ]
  },
  {
   "cell_type": "markdown",
   "metadata": {
    "collapsed": true
   },
   "source": [
    "**Step 10:  Use while loops and the functions you've made to run the game!**"
   ]
  },
  {
   "cell_type": "code",
   "execution_count": null,
   "metadata": {},
   "outputs": [],
   "source": [
    "print('Welcome to Tic Tac Toe!')\n",
    "answer = replay()\n",
    "while answer:\n",
    "    \n",
    "    # Set the game up here\n",
    "    test_board = ['#',' ',' ',' ',' ',' ',' ',' ',' ',' ']\n",
    "    # Choose player\n",
    "    player_input()\n",
    "    # Choose who will be first\n",
    "    firstplayer  = choose_first() \n",
    "    if firstplayer in range(1,500000):\n",
    "        player1 = 'X'\n",
    "        player2 = 'O'\n",
    "    else:\n",
    "        player1 = 'O'\n",
    "        player2 = 'X'\n",
    "    \n",
    "    playgame = input(\"Are you ready to play? Yes or No \")\n",
    "    \n",
    "    while playgame.lower() not in ['yes','no']:\n",
    "        playgame = input(\"Are you ready to play? Yes or No \")\n",
    "        \n",
    "    if playgame.lower() == \"no\":\n",
    "        break\n",
    "    \n",
    "    while True:\n",
    "        if  (full_board_check(test_board) == True) or  (win_check(test_board, 'X') == True) or  (win_check(test_board, 'O') == True):\n",
    "            break\n",
    "        clear_output()\n",
    "        display_board(test_board)\n",
    "        chosenpos = player_choice(test_board)\n",
    "        place_marker(test_board,player1, chosenpos)\n",
    "        clear_output()\n",
    "        if win_check(test_board, player1):\n",
    "            print (f\"Congratulations! {player1} has won!\")\n",
    "            print(\"------Game over-----\")\n",
    "            display_board(test_board)\n",
    "        if full_board_check(test_board):\n",
    "            print (\"------Game over-----\")\n",
    "            print(\"Nobody has won.\")\n",
    "            display_board(test_board)\n",
    "            \n",
    "        if  (full_board_check(test_board) == True) or  (win_check(test_board, 'X') == True) or  (win_check(test_board, 'O') == True):\n",
    "            break\n",
    "        \n",
    "        # Player2's turn.\n",
    "        clear_output()\n",
    "        display_board(test_board)\n",
    "        chosenpos = player_choice(test_board)\n",
    "        place_marker(test_board,player2, chosenpos)\n",
    "        if win_check(test_board, player2):\n",
    "            print (f\"Congratulations! {player2} has won!\")\n",
    "            print(\"------Game over-----\")\n",
    "            display_board(test_board)\n",
    "        if full_board_check(test_board):\n",
    "            print(\"------Game over-----\")\n",
    "            print(\"Nobody has won.\")\n",
    "            display_board(test_board)\n",
    "\n",
    "    answer = input(\"Game is over :) Do you want to play again?\")\n",
    "    while answer not in ['yes','no']:\n",
    "        answer = input(\"Game is over :) Do you want to play again (Yes/No)?\")\n",
    "    else:\n",
    "        pass\n",
    "    \n",
    "    if  answer.lower() == 'no':\n",
    "        break\n",
    "    else:\n",
    "        clear_output()\n",
    "        answer = True"
   ]
  }
 ],
 "metadata": {
  "kernelspec": {
   "display_name": "Python 3",
   "language": "python",
   "name": "python3"
  },
  "language_info": {
   "codemirror_mode": {
    "name": "ipython",
    "version": 3
   },
   "file_extension": ".py",
   "mimetype": "text/x-python",
   "name": "python",
   "nbconvert_exporter": "python",
   "pygments_lexer": "ipython3",
   "version": "3.6.5"
  }
 },
 "nbformat": 4,
 "nbformat_minor": 1
}
